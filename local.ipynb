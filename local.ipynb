{
 "cells": [
  {
   "cell_type": "code",
   "execution_count": 3,
   "metadata": {},
   "outputs": [
    {
     "name": "stdout",
     "output_type": "stream",
     "text": [
      "2021-09-12 00:00:00\n",
      "12 09 2021 00 00 00\n",
      "2021-09-12 01:23:45\n",
      "12 09 2021 01 23 45\n",
      "2021-09-12 01:23:45+01:00\n",
      "12 09 2021 01 23 45\n",
      "2021-09-12 01:23:45.123456\n",
      "12 09 2021 01 23 45\n",
      "2021-09-12 01:23:45+00:00\n",
      "12 09 2021 01 23 45\n"
     ]
    }
   ],
   "source": [
    "from datetime import datetime\n",
    "\n",
    "def string_to_datetime(x: str) -> datetime:\n",
    "    \"\"\"\n",
    "    Converts a string representing a date or datetime to a datetime object.\n",
    "\n",
    "    Supports various input formats:\n",
    "        - YYYY-MM-DD\n",
    "        - YYYY-MM-DDTHH:MM:SS\n",
    "        - YYYY-MM-DDTHH:MM:SS+00:00 (ISO 8601 with timezone offset)\n",
    "        - YYYY-MM-DDTHH:MM:SS.ffffff (microseconds)\n",
    "        - YYYY-MM-DDTHH:MM:SSZ (ISO 8601 with Z for Zulu time)\n",
    "\n",
    "    Args:\n",
    "        x: The string representing the date or datetime.\n",
    "\n",
    "    Returns:\n",
    "        A datetime object if the conversion is successful, otherwise None.\n",
    "    \"\"\"\n",
    "\n",
    "    try:\n",
    "        # Attempt to parse with various formats\n",
    "        return datetime.fromisoformat(x)  # Handles ISO 8601 formats\n",
    "    except ValueError:\n",
    "        try:\n",
    "            return datetime.strptime(x, \"%Y-%m-%d\")  # Handle YYYY-MM-DD format\n",
    "        except ValueError:\n",
    "            return None  # Return None if no format matches\n",
    "        \n",
    "\n",
    "s1 = '2021-09-12'\n",
    "s2 = '2021-09-12T01:23:45'\n",
    "s3 = '2021-09-12T01:23:45+01:00'\n",
    "s4 = '2021-09-12T01:23:45.123456'\n",
    "s5 = '2021-09-12T01:23:45Z'\n",
    "\n",
    "\n",
    "a = [s1,s2,s3,s4,s5]\n",
    "\n",
    "\n",
    "for i in a:\n",
    "    x = string_to_datetime(i)\n",
    "    print(x)\n",
    "    day = '{:02d}'.format(x.day)\n",
    "    month = '{:02d}'.format(x.month)\n",
    "    year = x.year\n",
    "    hour = '{:02d}'.format(x.hour)\n",
    "    minute = '{:02d}'.format(x.minute)\n",
    "    second = '{:02d}'.format(x.second)\n",
    "    print(day, month, year, hour, minute, second)\n",
    "\n",
    "\n",
    "\n"
   ]
  }
 ],
 "metadata": {
  "kernelspec": {
   "display_name": "Python 3",
   "language": "python",
   "name": "python3"
  },
  "language_info": {
   "codemirror_mode": {
    "name": "ipython",
    "version": 3
   },
   "file_extension": ".py",
   "mimetype": "text/x-python",
   "name": "python",
   "nbconvert_exporter": "python",
   "pygments_lexer": "ipython3",
   "version": "3.11.9"
  }
 },
 "nbformat": 4,
 "nbformat_minor": 2
}
